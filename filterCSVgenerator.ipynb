{
 "cells": [
  {
   "cell_type": "code",
   "execution_count": 16,
   "metadata": {},
   "outputs": [],
   "source": [
    "import pandas as pd\n",
    "import numpy as np\n"
   ]
  },
  {
   "cell_type": "code",
   "execution_count": 17,
   "metadata": {},
   "outputs": [],
   "source": [
    "df = pd.read_csv('Data/restaurant_photos.csv')"
   ]
  },
  {
   "cell_type": "code",
   "execution_count": 18,
   "metadata": {},
   "outputs": [
    {
     "data": {
      "text/html": [
       "<div>\n",
       "<style scoped>\n",
       "    .dataframe tbody tr th:only-of-type {\n",
       "        vertical-align: middle;\n",
       "    }\n",
       "\n",
       "    .dataframe tbody tr th {\n",
       "        vertical-align: top;\n",
       "    }\n",
       "\n",
       "    .dataframe thead th {\n",
       "        text-align: right;\n",
       "    }\n",
       "</style>\n",
       "<table border=\"1\" class=\"dataframe\">\n",
       "  <thead>\n",
       "    <tr style=\"text-align: right;\">\n",
       "      <th></th>\n",
       "      <th>business_id</th>\n",
       "      <th>photo_id</th>\n",
       "      <th>caption</th>\n",
       "      <th>label</th>\n",
       "      <th>categories</th>\n",
       "    </tr>\n",
       "  </thead>\n",
       "  <tbody>\n",
       "    <tr>\n",
       "      <th>0</th>\n",
       "      <td>Nk-SJhPlDBkAZvfsADtccA</td>\n",
       "      <td>zsvj7vloL4L5jhYyPIuVwg</td>\n",
       "      <td>Nice rock artwork everywhere and craploads of ...</td>\n",
       "      <td>inside</td>\n",
       "      <td>['Restaurants', 'Pubs', 'Nightlife', 'American...</td>\n",
       "    </tr>\n",
       "    <tr>\n",
       "      <th>1</th>\n",
       "      <td>yVZtL5MmrpiivyCIrVkGgA</td>\n",
       "      <td>HCUdRJHHm_e0OCTlZetGLg</td>\n",
       "      <td>NaN</td>\n",
       "      <td>outside</td>\n",
       "      <td>['Barbeque', 'Sandwiches', 'American (Traditio...</td>\n",
       "    </tr>\n",
       "    <tr>\n",
       "      <th>2</th>\n",
       "      <td>_ab50qdWOk0DdB6XOrBitw</td>\n",
       "      <td>vkr8T0scuJmGVvN2HJelEA</td>\n",
       "      <td>oyster shooter</td>\n",
       "      <td>drink</td>\n",
       "      <td>['Live/Raw Food', 'Seafood', 'Restaurants', 'C...</td>\n",
       "    </tr>\n",
       "    <tr>\n",
       "      <th>3</th>\n",
       "      <td>SZU9c8V2GuREDN5KgyHFJw</td>\n",
       "      <td>pve7D6NUrafHW3EAORubyw</td>\n",
       "      <td>Shrimp scampi</td>\n",
       "      <td>food</td>\n",
       "      <td>['Live/Raw Food', 'Restaurants', 'Seafood', 'B...</td>\n",
       "    </tr>\n",
       "    <tr>\n",
       "      <th>4</th>\n",
       "      <td>Gzur0f0XMkrVxIwYJvOt2g</td>\n",
       "      <td>H52Er-uBg6rNrHcReWTD2w</td>\n",
       "      <td>NaN</td>\n",
       "      <td>food</td>\n",
       "      <td>['Restaurants', 'Vegan', 'Food', 'Ice Cream &amp; ...</td>\n",
       "    </tr>\n",
       "  </tbody>\n",
       "</table>\n",
       "</div>"
      ],
      "text/plain": [
       "              business_id                photo_id  \\\n",
       "0  Nk-SJhPlDBkAZvfsADtccA  zsvj7vloL4L5jhYyPIuVwg   \n",
       "1  yVZtL5MmrpiivyCIrVkGgA  HCUdRJHHm_e0OCTlZetGLg   \n",
       "2  _ab50qdWOk0DdB6XOrBitw  vkr8T0scuJmGVvN2HJelEA   \n",
       "3  SZU9c8V2GuREDN5KgyHFJw  pve7D6NUrafHW3EAORubyw   \n",
       "4  Gzur0f0XMkrVxIwYJvOt2g  H52Er-uBg6rNrHcReWTD2w   \n",
       "\n",
       "                                             caption    label  \\\n",
       "0  Nice rock artwork everywhere and craploads of ...   inside   \n",
       "1                                                NaN  outside   \n",
       "2                                     oyster shooter    drink   \n",
       "3                                      Shrimp scampi     food   \n",
       "4                                                NaN     food   \n",
       "\n",
       "                                          categories  \n",
       "0  ['Restaurants', 'Pubs', 'Nightlife', 'American...  \n",
       "1  ['Barbeque', 'Sandwiches', 'American (Traditio...  \n",
       "2  ['Live/Raw Food', 'Seafood', 'Restaurants', 'C...  \n",
       "3  ['Live/Raw Food', 'Restaurants', 'Seafood', 'B...  \n",
       "4  ['Restaurants', 'Vegan', 'Food', 'Ice Cream & ...  "
      ]
     },
     "execution_count": 18,
     "metadata": {},
     "output_type": "execute_result"
    }
   ],
   "source": [
    "df.head()"
   ]
  },
  {
   "cell_type": "code",
   "execution_count": 19,
   "metadata": {},
   "outputs": [],
   "source": [
    "cats = df['categories']\n",
    "\n",
    "freqs = cats.value_counts()"
   ]
  },
  {
   "cell_type": "code",
   "execution_count": 20,
   "metadata": {},
   "outputs": [
    {
     "data": {
      "text/plain": [
       "(170467, 5)"
      ]
     },
     "execution_count": 20,
     "metadata": {},
     "output_type": "execute_result"
    }
   ],
   "source": [
    "df.shape"
   ]
  },
  {
   "cell_type": "code",
   "execution_count": 21,
   "metadata": {},
   "outputs": [],
   "source": [
    "from ast import literal_eval\n",
    "from collections import Counter\n",
    "\n",
    "\n",
    "# Manual conversion of string representation of lists into actual lists\n",
    "df['categories'] = df['categories'].apply(lambda x: x.strip(\"[]\").replace(\"'\", \"\").split(\", \"))\n",
    "\n",
    "# Flatten the list of lists\n",
    "all_values = [item for sublist in df['categories'] for item in sublist]\n",
    "\n",
    "# Count the frequency of each unique value\n",
    "frequency = Counter(all_values)\n",
    "\n"
   ]
  },
  {
   "cell_type": "code",
   "execution_count": 22,
   "metadata": {},
   "outputs": [],
   "source": [
    "sorted_ = sorted(frequency.items(), key=lambda x: x[1], reverse=True)\n"
   ]
  },
  {
   "cell_type": "code",
   "execution_count": 23,
   "metadata": {},
   "outputs": [
    {
     "data": {
      "text/plain": [
       "['Food', 'Nightlife', 'Bars', 'American (Traditional)', 'American (New)']"
      ]
     },
     "execution_count": 23,
     "metadata": {},
     "output_type": "execute_result"
    }
   ],
   "source": [
    "sorted_[1:11]\n",
    "\n",
    "# Store the most frequent categories in a list\n",
    "most_common = [x[0] for x in sorted_[1:6]]\n",
    "\n",
    "most_common"
   ]
  },
  {
   "cell_type": "code",
   "execution_count": 24,
   "metadata": {},
   "outputs": [],
   "source": [
    "df.head()\n",
    "\n",
    "# Filter the dataframe to only include the most common categories\n",
    "df_filtered = df[df['categories'].apply(lambda x: any(item for item in x if item in most_common))]"
   ]
  },
  {
   "cell_type": "code",
   "execution_count": 25,
   "metadata": {},
   "outputs": [
    {
     "data": {
      "text/plain": [
       "(116036, 5)"
      ]
     },
     "execution_count": 25,
     "metadata": {},
     "output_type": "execute_result"
    }
   ],
   "source": [
    "df_filtered.shape"
   ]
  },
  {
   "cell_type": "code",
   "execution_count": 26,
   "metadata": {},
   "outputs": [
    {
     "data": {
      "text/html": [
       "<div>\n",
       "<style scoped>\n",
       "    .dataframe tbody tr th:only-of-type {\n",
       "        vertical-align: middle;\n",
       "    }\n",
       "\n",
       "    .dataframe tbody tr th {\n",
       "        vertical-align: top;\n",
       "    }\n",
       "\n",
       "    .dataframe thead th {\n",
       "        text-align: right;\n",
       "    }\n",
       "</style>\n",
       "<table border=\"1\" class=\"dataframe\">\n",
       "  <thead>\n",
       "    <tr style=\"text-align: right;\">\n",
       "      <th></th>\n",
       "      <th>business_id</th>\n",
       "      <th>photo_id</th>\n",
       "      <th>caption</th>\n",
       "      <th>label</th>\n",
       "      <th>categories</th>\n",
       "    </tr>\n",
       "  </thead>\n",
       "  <tbody>\n",
       "    <tr>\n",
       "      <th>0</th>\n",
       "      <td>Nk-SJhPlDBkAZvfsADtccA</td>\n",
       "      <td>zsvj7vloL4L5jhYyPIuVwg</td>\n",
       "      <td>Nice rock artwork everywhere and craploads of ...</td>\n",
       "      <td>inside</td>\n",
       "      <td>[Restaurants, Pubs, Nightlife, American (Tradi...</td>\n",
       "    </tr>\n",
       "    <tr>\n",
       "      <th>1</th>\n",
       "      <td>yVZtL5MmrpiivyCIrVkGgA</td>\n",
       "      <td>HCUdRJHHm_e0OCTlZetGLg</td>\n",
       "      <td>NaN</td>\n",
       "      <td>outside</td>\n",
       "      <td>[Barbeque, Sandwiches, American (Traditional),...</td>\n",
       "    </tr>\n",
       "    <tr>\n",
       "      <th>3</th>\n",
       "      <td>SZU9c8V2GuREDN5KgyHFJw</td>\n",
       "      <td>pve7D6NUrafHW3EAORubyw</td>\n",
       "      <td>Shrimp scampi</td>\n",
       "      <td>food</td>\n",
       "      <td>[Live/Raw Food, Restaurants, Seafood, Beer Bar...</td>\n",
       "    </tr>\n",
       "    <tr>\n",
       "      <th>4</th>\n",
       "      <td>Gzur0f0XMkrVxIwYJvOt2g</td>\n",
       "      <td>H52Er-uBg6rNrHcReWTD2w</td>\n",
       "      <td>NaN</td>\n",
       "      <td>food</td>\n",
       "      <td>[Restaurants, Vegan, Food, Ice Cream &amp; Frozen ...</td>\n",
       "    </tr>\n",
       "    <tr>\n",
       "      <th>5</th>\n",
       "      <td>jl38yx7zzMRbg-kOK8NLDw</td>\n",
       "      <td>wZ29mUm6nKz566j17OBadw</td>\n",
       "      <td>NaN</td>\n",
       "      <td>food</td>\n",
       "      <td>[German, Bars, Gluten-Free, Nightlife, Pubs, A...</td>\n",
       "    </tr>\n",
       "  </tbody>\n",
       "</table>\n",
       "</div>"
      ],
      "text/plain": [
       "              business_id                photo_id  \\\n",
       "0  Nk-SJhPlDBkAZvfsADtccA  zsvj7vloL4L5jhYyPIuVwg   \n",
       "1  yVZtL5MmrpiivyCIrVkGgA  HCUdRJHHm_e0OCTlZetGLg   \n",
       "3  SZU9c8V2GuREDN5KgyHFJw  pve7D6NUrafHW3EAORubyw   \n",
       "4  Gzur0f0XMkrVxIwYJvOt2g  H52Er-uBg6rNrHcReWTD2w   \n",
       "5  jl38yx7zzMRbg-kOK8NLDw  wZ29mUm6nKz566j17OBadw   \n",
       "\n",
       "                                             caption    label  \\\n",
       "0  Nice rock artwork everywhere and craploads of ...   inside   \n",
       "1                                                NaN  outside   \n",
       "3                                      Shrimp scampi     food   \n",
       "4                                                NaN     food   \n",
       "5                                                NaN     food   \n",
       "\n",
       "                                          categories  \n",
       "0  [Restaurants, Pubs, Nightlife, American (Tradi...  \n",
       "1  [Barbeque, Sandwiches, American (Traditional),...  \n",
       "3  [Live/Raw Food, Restaurants, Seafood, Beer Bar...  \n",
       "4  [Restaurants, Vegan, Food, Ice Cream & Frozen ...  \n",
       "5  [German, Bars, Gluten-Free, Nightlife, Pubs, A...  "
      ]
     },
     "execution_count": 26,
     "metadata": {},
     "output_type": "execute_result"
    }
   ],
   "source": [
    "df_filtered.head()"
   ]
  },
  {
   "cell_type": "code",
   "execution_count": 27,
   "metadata": {},
   "outputs": [
    {
     "data": {
      "text/plain": [
       "(25000, 5)"
      ]
     },
     "execution_count": 27,
     "metadata": {},
     "output_type": "execute_result"
    }
   ],
   "source": [
    "filtDFs = []\n",
    "for category in most_common:\n",
    "    cat_df = df_filtered[df_filtered['categories'].apply(lambda x: category in x)]\n",
    "    limited_df = cat_df.sample(5000)\n",
    "\n",
    "    filtDFs.append(limited_df)\n",
    "\n",
    "finalDF = pd.concat(filtDFs)\n",
    "\n",
    "finalDF.shape"
   ]
  },
  {
   "cell_type": "code",
   "execution_count": 28,
   "metadata": {},
   "outputs": [
    {
     "data": {
      "text/html": [
       "<div>\n",
       "<style scoped>\n",
       "    .dataframe tbody tr th:only-of-type {\n",
       "        vertical-align: middle;\n",
       "    }\n",
       "\n",
       "    .dataframe tbody tr th {\n",
       "        vertical-align: top;\n",
       "    }\n",
       "\n",
       "    .dataframe thead th {\n",
       "        text-align: right;\n",
       "    }\n",
       "</style>\n",
       "<table border=\"1\" class=\"dataframe\">\n",
       "  <thead>\n",
       "    <tr style=\"text-align: right;\">\n",
       "      <th></th>\n",
       "      <th>business_id</th>\n",
       "      <th>photo_id</th>\n",
       "      <th>caption</th>\n",
       "      <th>label</th>\n",
       "      <th>categories</th>\n",
       "    </tr>\n",
       "  </thead>\n",
       "  <tbody>\n",
       "    <tr>\n",
       "      <th>76507</th>\n",
       "      <td>W72rYffSVg0pIaOpRgNniw</td>\n",
       "      <td>oFpKzXAdt-uyQrn7hNGQ-Q</td>\n",
       "      <td>NaN</td>\n",
       "      <td>inside</td>\n",
       "      <td>[Restaurants, Food, Pizza]</td>\n",
       "    </tr>\n",
       "    <tr>\n",
       "      <th>114542</th>\n",
       "      <td>gwxNttwUgmOn3vsHYe0pDQ</td>\n",
       "      <td>3PtqL1U7IUkbeYSjUPaZ7g</td>\n",
       "      <td>NaN</td>\n",
       "      <td>food</td>\n",
       "      <td>[Restaurants, Coffee &amp; Tea, Gluten-Free, Food,...</td>\n",
       "    </tr>\n",
       "    <tr>\n",
       "      <th>80190</th>\n",
       "      <td>fZzvYELAKZ0A8wePhHvdiQ</td>\n",
       "      <td>-yK3p8JYmxqep8lK2PQhfw</td>\n",
       "      <td>NaN</td>\n",
       "      <td>food</td>\n",
       "      <td>[Cafes, American (Traditional), Bakeries, Rest...</td>\n",
       "    </tr>\n",
       "    <tr>\n",
       "      <th>103534</th>\n",
       "      <td>fE8Vyo9HwsQIE9z3KuoWUw</td>\n",
       "      <td>uVyoWRe1fKZSR55QMAOFog</td>\n",
       "      <td>Catch of the Day: Scallops.</td>\n",
       "      <td>food</td>\n",
       "      <td>[Italian, Restaurants, Pizza, Food, Pasta Shop...</td>\n",
       "    </tr>\n",
       "    <tr>\n",
       "      <th>66088</th>\n",
       "      <td>dgyKoIYEYrmRK_hktWBZdA</td>\n",
       "      <td>G3ruZm73_1lepdvo40TOrg</td>\n",
       "      <td>NaN</td>\n",
       "      <td>outside</td>\n",
       "      <td>[Cocktail Bars, Seafood, American (Traditional...</td>\n",
       "    </tr>\n",
       "  </tbody>\n",
       "</table>\n",
       "</div>"
      ],
      "text/plain": [
       "                   business_id                photo_id  \\\n",
       "76507   W72rYffSVg0pIaOpRgNniw  oFpKzXAdt-uyQrn7hNGQ-Q   \n",
       "114542  gwxNttwUgmOn3vsHYe0pDQ  3PtqL1U7IUkbeYSjUPaZ7g   \n",
       "80190   fZzvYELAKZ0A8wePhHvdiQ  -yK3p8JYmxqep8lK2PQhfw   \n",
       "103534  fE8Vyo9HwsQIE9z3KuoWUw  uVyoWRe1fKZSR55QMAOFog   \n",
       "66088   dgyKoIYEYrmRK_hktWBZdA  G3ruZm73_1lepdvo40TOrg   \n",
       "\n",
       "                            caption    label  \\\n",
       "76507                           NaN   inside   \n",
       "114542                          NaN     food   \n",
       "80190                           NaN     food   \n",
       "103534  Catch of the Day: Scallops.     food   \n",
       "66088                           NaN  outside   \n",
       "\n",
       "                                               categories  \n",
       "76507                          [Restaurants, Food, Pizza]  \n",
       "114542  [Restaurants, Coffee & Tea, Gluten-Free, Food,...  \n",
       "80190   [Cafes, American (Traditional), Bakeries, Rest...  \n",
       "103534  [Italian, Restaurants, Pizza, Food, Pasta Shop...  \n",
       "66088   [Cocktail Bars, Seafood, American (Traditional...  "
      ]
     },
     "execution_count": 28,
     "metadata": {},
     "output_type": "execute_result"
    }
   ],
   "source": [
    "finalDF.head()"
   ]
  },
  {
   "cell_type": "code",
   "execution_count": 29,
   "metadata": {},
   "outputs": [
    {
     "data": {
      "text/html": [
       "<div>\n",
       "<style scoped>\n",
       "    .dataframe tbody tr th:only-of-type {\n",
       "        vertical-align: middle;\n",
       "    }\n",
       "\n",
       "    .dataframe tbody tr th {\n",
       "        vertical-align: top;\n",
       "    }\n",
       "\n",
       "    .dataframe thead th {\n",
       "        text-align: right;\n",
       "    }\n",
       "</style>\n",
       "<table border=\"1\" class=\"dataframe\">\n",
       "  <thead>\n",
       "    <tr style=\"text-align: right;\">\n",
       "      <th></th>\n",
       "      <th>business_id</th>\n",
       "      <th>photo_id</th>\n",
       "      <th>caption</th>\n",
       "      <th>label</th>\n",
       "      <th>categories</th>\n",
       "    </tr>\n",
       "  </thead>\n",
       "  <tbody>\n",
       "    <tr>\n",
       "      <th>76507</th>\n",
       "      <td>W72rYffSVg0pIaOpRgNniw</td>\n",
       "      <td>oFpKzXAdt-uyQrn7hNGQ-Q</td>\n",
       "      <td>NaN</td>\n",
       "      <td>inside</td>\n",
       "      <td>[Food]</td>\n",
       "    </tr>\n",
       "    <tr>\n",
       "      <th>114542</th>\n",
       "      <td>gwxNttwUgmOn3vsHYe0pDQ</td>\n",
       "      <td>3PtqL1U7IUkbeYSjUPaZ7g</td>\n",
       "      <td>NaN</td>\n",
       "      <td>food</td>\n",
       "      <td>[Food]</td>\n",
       "    </tr>\n",
       "    <tr>\n",
       "      <th>80190</th>\n",
       "      <td>fZzvYELAKZ0A8wePhHvdiQ</td>\n",
       "      <td>-yK3p8JYmxqep8lK2PQhfw</td>\n",
       "      <td>NaN</td>\n",
       "      <td>food</td>\n",
       "      <td>[American (Traditional), Food]</td>\n",
       "    </tr>\n",
       "    <tr>\n",
       "      <th>103534</th>\n",
       "      <td>fE8Vyo9HwsQIE9z3KuoWUw</td>\n",
       "      <td>uVyoWRe1fKZSR55QMAOFog</td>\n",
       "      <td>Catch of the Day: Scallops.</td>\n",
       "      <td>food</td>\n",
       "      <td>[Food]</td>\n",
       "    </tr>\n",
       "    <tr>\n",
       "      <th>66088</th>\n",
       "      <td>dgyKoIYEYrmRK_hktWBZdA</td>\n",
       "      <td>G3ruZm73_1lepdvo40TOrg</td>\n",
       "      <td>NaN</td>\n",
       "      <td>outside</td>\n",
       "      <td>[American (Traditional), Food, Bars, Nightlife]</td>\n",
       "    </tr>\n",
       "  </tbody>\n",
       "</table>\n",
       "</div>"
      ],
      "text/plain": [
       "                   business_id                photo_id  \\\n",
       "76507   W72rYffSVg0pIaOpRgNniw  oFpKzXAdt-uyQrn7hNGQ-Q   \n",
       "114542  gwxNttwUgmOn3vsHYe0pDQ  3PtqL1U7IUkbeYSjUPaZ7g   \n",
       "80190   fZzvYELAKZ0A8wePhHvdiQ  -yK3p8JYmxqep8lK2PQhfw   \n",
       "103534  fE8Vyo9HwsQIE9z3KuoWUw  uVyoWRe1fKZSR55QMAOFog   \n",
       "66088   dgyKoIYEYrmRK_hktWBZdA  G3ruZm73_1lepdvo40TOrg   \n",
       "\n",
       "                            caption    label  \\\n",
       "76507                           NaN   inside   \n",
       "114542                          NaN     food   \n",
       "80190                           NaN     food   \n",
       "103534  Catch of the Day: Scallops.     food   \n",
       "66088                           NaN  outside   \n",
       "\n",
       "                                             categories  \n",
       "76507                                            [Food]  \n",
       "114542                                           [Food]  \n",
       "80190                    [American (Traditional), Food]  \n",
       "103534                                           [Food]  \n",
       "66088   [American (Traditional), Food, Bars, Nightlife]  "
      ]
     },
     "execution_count": 29,
     "metadata": {},
     "output_type": "execute_result"
    }
   ],
   "source": [
    "def keepOnlyMostCommon(x):\n",
    "    return [item for item in x if item in most_common]\n",
    "\n",
    "\n",
    "# For category in most_common, keep only the most common categories\n",
    "finalDF['categories'] = finalDF['categories'].apply(keepOnlyMostCommon)\n",
    "\n",
    "finalDF.head()"
   ]
  },
  {
   "cell_type": "code",
   "execution_count": 30,
   "metadata": {},
   "outputs": [],
   "source": [
    "# Save finalDF to a csv file\n",
    "finalDF.to_csv('Data/restaurant_photos_filtered.csv', index=False)"
   ]
  },
  {
   "cell_type": "code",
   "execution_count": null,
   "metadata": {},
   "outputs": [],
   "source": []
  }
 ],
 "metadata": {
  "kernelspec": {
   "display_name": "Python 3",
   "language": "python",
   "name": "python3"
  },
  "language_info": {
   "codemirror_mode": {
    "name": "ipython",
    "version": 3
   },
   "file_extension": ".py",
   "mimetype": "text/x-python",
   "name": "python",
   "nbconvert_exporter": "python",
   "pygments_lexer": "ipython3",
   "version": "3.9.18"
  }
 },
 "nbformat": 4,
 "nbformat_minor": 2
}
